{
 "cells": [
  {
   "cell_type": "code",
   "execution_count": 1,
   "id": "924cdf99-0033-43f4-bf23-64b41f8fe643",
   "metadata": {},
   "outputs": [],
   "source": [
    "import re\n",
    "\n",
    "def message_probability(user_message, recognised_words, single_response=False, required_words=[]):\n",
    "    message_certainty = 0\n",
    "    has_required_words = True\n",
    "\n",
    "    for word in user_message:\n",
    "        if word in recognised_words:\n",
    "            message_certainty += 1\n",
    "\n",
    "    percentage = float(message_certainty) / float(len(recognised_words))\n",
    "\n",
    "    for word in required_words:\n",
    "        if word not in user_message:\n",
    "            has_required_words = False\n",
    "            break\n",
    "\n",
    "    if has_required_words or single_response:\n",
    "        return int(percentage * 100)\n",
    "    else:\n",
    "        return 0"
   ]
  },
  {
   "cell_type": "code",
   "execution_count": 2,
   "id": "14ff071c-a3b1-4f84-bc08-b46e4b261b55",
   "metadata": {},
   "outputs": [],
   "source": [
    "def check_all_messages(message):\n",
    "    highest_prob_list = {}\n",
    "\n",
    "    def response(bot_response, list_of_words, single_response=False, required_words=[]):\n",
    "        nonlocal highest_prob_list\n",
    "        highest_prob_list[bot_response] = message_probability(message, list_of_words, single_response, required_words)\n",
    "   \n",
    "    response('Hello!', ['hello', 'hi', 'hey', 'sup', 'heyo'], single_response=True)\n",
    "    response('See you!', ['bye', 'goodbye'], single_response=True)\n",
    "    response('I\\'m doing fine, and you?', ['how', 'are', 'you', 'doing'], required_words=['how'])\n",
    "    response('You\\'re welcome!', ['thank', 'thanks'], single_response=True)\n",
    "    response('Thank you!', ['i', 'love', 'milan', 'sahu'], required_words=['milan', 'sahu'])\n",
    "  \n",
    "    best_match = max(highest_prob_list, key=highest_prob_list.get)\n",
    "\n",
    "    return best_match"
   ]
  },
  {
   "cell_type": "code",
   "execution_count": 3,
   "id": "8d2a6b53-5406-4c76-a76b-cc66bbb8d5d7",
   "metadata": {},
   "outputs": [],
   "source": [
    "def get_response(user_input):\n",
    "    split_message = re.split(r'\\s+|[,;?!.-]\\s*', user_input.lower())\n",
    "    response = check_all_messages(split_message)\n",
    "    return response"
   ]
  },
  {
   "cell_type": "code",
   "execution_count": null,
   "id": "12aee018-c21b-4cae-bb57-5876c2bbc8bc",
   "metadata": {},
   "outputs": [
    {
     "name": "stdin",
     "output_type": "stream",
     "text": [
      "You:  hi\n"
     ]
    },
    {
     "name": "stdout",
     "output_type": "stream",
     "text": [
      "Bot: Hello!\n"
     ]
    },
    {
     "name": "stdin",
     "output_type": "stream",
     "text": [
      "You:  mlan\n"
     ]
    },
    {
     "name": "stdout",
     "output_type": "stream",
     "text": [
      "Bot: Hello!\n"
     ]
    },
    {
     "name": "stdin",
     "output_type": "stream",
     "text": [
      "You:  milan\n"
     ]
    },
    {
     "name": "stdout",
     "output_type": "stream",
     "text": [
      "Bot: Hello!\n"
     ]
    },
    {
     "name": "stdin",
     "output_type": "stream",
     "text": [
      "You:  milan sahu\n"
     ]
    },
    {
     "name": "stdout",
     "output_type": "stream",
     "text": [
      "Bot: Thank you!\n"
     ]
    }
   ],
   "source": [
    "while True:\n",
    "    print('Bot: ' + get_response(input('You: ')))"
   ]
  },
  {
   "cell_type": "code",
   "execution_count": null,
   "id": "d753077a-f584-4c9b-ac05-7cb119125e77",
   "metadata": {},
   "outputs": [],
   "source": []
  }
 ],
 "metadata": {
  "kernelspec": {
   "display_name": "Python 3 (ipykernel)",
   "language": "python",
   "name": "python3"
  },
  "language_info": {
   "codemirror_mode": {
    "name": "ipython",
    "version": 3
   },
   "file_extension": ".py",
   "mimetype": "text/x-python",
   "name": "python",
   "nbconvert_exporter": "python",
   "pygments_lexer": "ipython3",
   "version": "3.11.3"
  }
 },
 "nbformat": 4,
 "nbformat_minor": 5
}
